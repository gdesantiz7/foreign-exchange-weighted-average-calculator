{
 "cells": [
  {
   "cell_type": "markdown",
   "metadata": {
    "colab_type": "text",
    "id": "shL4Sf5bTuz1"
   },
   "source": [
    "# Foreign Exchange Weighted Average Calculator"
   ]
  },
  {
   "cell_type": "markdown",
   "metadata": {
    "colab_type": "text",
    "id": "KddheTjnTuz2"
   },
   "source": [
    "## Description"
   ]
  },
  {
   "cell_type": "markdown",
   "metadata": {
    "colab_type": "text",
    "id": "AygI3WGZTuz2"
   },
   "source": [
    "The `fx_weighted_average` function contains two parameters, `amounts` and `prices`.  In terms of Python syntax, `amounts` is categorized as a list of integers, while `prices` is categorized as a list of floats.  `amounts` are actually foreign exchange units which are converted into notionals of 1,000,000 each.  `prices` are foreign exchange prices that correspond to each unit.  The final output of this code is a summation of amounts, at an average weighted price.  Please note that the length of amounts must equal the length of prices.  In addition, each amount must be an integer between 1 and 100."
   ]
  },
  {
   "cell_type": "markdown",
   "metadata": {
    "colab_type": "text",
    "id": "5wW6qL1uTuz3"
   },
   "source": [
    "## Import"
   ]
  },
  {
   "cell_type": "code",
   "execution_count": 1,
   "metadata": {
    "colab": {},
    "colab_type": "code",
    "id": "edHpXYJlTuz4"
   },
   "outputs": [],
   "source": [
    "from typing import List"
   ]
  },
  {
   "cell_type": "markdown",
   "metadata": {
    "colab_type": "text",
    "id": "9TNIfBHRTuz7"
   },
   "source": [
    "## Function"
   ]
  },
  {
   "cell_type": "code",
   "execution_count": 2,
   "metadata": {
    "colab": {},
    "colab_type": "code",
    "id": "cyXb75xCTuz8"
   },
   "outputs": [],
   "source": [
    "def fx_weighted_average(lots: List[int], prices: List[float]) -> float:\n",
    "    \"\"\"Calculates the weighted average price per currency\"\"\"\n",
    "    assert len(lots) == len(prices), \"lots list length must equal \" \\\n",
    "    \"prices list length\"\n",
    "    for lot in lots:\n",
    "        assert 1 <= lot <= 100, \"a lot in lots must be between 1 \" \\\n",
    "        \"and 100\"\n",
    "    lots_1_mio = [lot * 1000000 for lot in lots]\n",
    "    lots_by_prices = [a_i * p_i for a_i, p_i in zip(lots_1_mio, prices)]\n",
    "    lots_sum = sum(lots_1_mio)\n",
    "    lots_by_prices_sum = sum(lots_by_prices)\n",
    "    print(f\"{format(lots_sum, ',')} at {format(lots_by_prices_sum / lots_sum, '0.5f')}\")"
   ]
  },
  {
   "cell_type": "markdown",
   "metadata": {
    "colab_type": "text",
    "id": "jGzcWPX0Tuz-"
   },
   "source": [
    "## Output"
   ]
  },
  {
   "cell_type": "code",
   "execution_count": 3,
   "metadata": {
    "colab": {
     "base_uri": "https://localhost:8080/",
     "height": 34
    },
    "colab_type": "code",
    "executionInfo": {
     "elapsed": 382,
     "status": "ok",
     "timestamp": 1573158905993,
     "user": {
      "displayName": "Gregory DeSantis",
      "photoUrl": "https://lh3.googleusercontent.com/a-/AAuE7mCHssn6k_W39SXrih--NHbKlExO1GXsE0Yvse1A6n8=s64",
      "userId": "13988622607574133301"
     },
     "user_tz": 300
    },
    "id": "aQIawM9kTuz-",
    "outputId": "ff9b38be-1bb0-4639-eb16-2752c9a4919e"
   },
   "outputs": [
    {
     "name": "stdout",
     "output_type": "stream",
     "text": [
      "6,000,000 at 1.11290\n"
     ]
    }
   ],
   "source": [
    "fx_weighted_average([1,2,3],[1.1125,1.1128,1.1131]) # 6,000,000 at 1.11290"
   ]
  }
 ],
 "metadata": {
  "colab": {
   "collapsed_sections": [],
   "name": "Foreign Exchange Weighted Average Calculator.ipynb",
   "provenance": []
  },
  "kernelspec": {
   "display_name": "Python 3",
   "language": "python",
   "name": "python3"
  },
  "language_info": {
   "codemirror_mode": {
    "name": "ipython",
    "version": 3
   },
   "file_extension": ".py",
   "mimetype": "text/x-python",
   "name": "python",
   "nbconvert_exporter": "python",
   "pygments_lexer": "ipython3",
   "version": "3.7.4"
  }
 },
 "nbformat": 4,
 "nbformat_minor": 1
}
